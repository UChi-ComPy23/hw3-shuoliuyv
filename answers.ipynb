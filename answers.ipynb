{
 "cells": [
  {
   "cell_type": "markdown",
   "metadata": {},
   "source": [
    "# Answers\n",
    "\n",
    "You can edit this Jupyter notebook to include your answers and run any code that generates those answers or produces plots.  You can add additional cells for code or markdown as needed.\n",
    "\n",
    "This homework is primarily about running simulations involving initial value problems (IVPs) and a simple PDE."
   ]
  },
  {
   "cell_type": "code",
   "execution_count": 8,
   "metadata": {},
   "outputs": [],
   "source": [
    "import numpy as np\n",
    "import scipy.integrate\n",
    "import matplotlib.pyplot as plt\n",
    "from scipy.integrate import DenseOutput\n",
    "from scipy.interpolate import interp1d\n",
    "from scipy.optimize import curve_fit\n",
    "import scipy.sparse as sparse\n",
    "import sympy as sym\n",
    "from sympy import Function, dsolve, Eq, Derivative, sin, cos, symbols\n",
    "from scipy.integrate import solve_ivp\n",
    "import importlib\n",
    "from warnings import warn"
   ]
  },
  {
   "cell_type": "markdown",
   "metadata": {},
   "source": [
    "## Problem 0 (30 points)\n",
    "\n",
    "In this problem, you will implement a custom ODE solver for `solve_ivp` based on the Forward Euler method, and implement some basic tests.\n",
    "\n",
    "### Part A (20 points)\n",
    "If you read the [documentation for `solve_ipv`](https://docs.scipy.org/doc/scipy/reference/generated/scipy.integrate.solve_ivp.html), which we used in class, you'll see that you can write your own solver.\n",
    "\n",
    "Write a solver for the forward Euler method, which is not implemented as one of the available solvers (while simple, it typically is not very accurate).  Recall, this is the basic rule:\n",
    "\\begin{equation}\n",
    "y(t + h) = y(t) + h f(t, y)\n",
    "\\end{equation}\n",
    "\n",
    "Your solver should be a class which is derived from [`scipy.integrate.OdeSolver`](https://docs.scipy.org/doc/scipy/reference/generated/scipy.integrate.OdeSolver.html#scipy.integrate.OdeSolver)\n",
    "```python\n",
    "class ForwardEuler(scipy.integrate.OdeSolver):\n",
    "    pass\n",
    "```\n",
    "\n",
    "Your class definition should go in [`euler.py`](euler.py)\n",
    "\n",
    "You should read the documentation for this base class in order to implement `ForwardEuler`.  Here are some hints/notes:\n",
    "* Allow a user to set `h` using a keyword argument.  This can be passed using `solve_ivp(..., method=ForwardEuler, h=0.01)` to set `h=0.01`\n",
    "* Use a default step size `h = (t_bound - t0) / 100`\n",
    "* private methods begin with an underscore \"_\"\n",
    "* the method `_dense_output_impl(self)` should output a `ForwardEulerOutput` (defined in [`euler.py`](euler.py))\n",
    "* direction should be `+1`\n",
    "* You won't use a Jacobian, so `njev` and `nlu` can remain at 0.\n",
    "* You may want to consider using `super(ForwardEuler, self).__init__`\n",
    "* You may want to read the source code for the parent class [here](https://github.com/scipy/scipy/blob/v1.5.3/scipy/integrate/_ivp/base.py#L25-L214)\n",
    "\n",
    "---\n",
    "\n",
    "*put any discussion here*"
   ]
  },
  {
   "cell_type": "code",
   "execution_count": 2,
   "metadata": {},
   "outputs": [],
   "source": []
  },
  {
   "cell_type": "markdown",
   "metadata": {},
   "source": [
    "### Part B (10 points)\n",
    "\n",
    "Use your `ForwardEuler` solver and `solve_ivp` to solve an IVP $y'(t) = y$ with $y(0) = 1$ on the domain $t\\in [0,5]$, using a step size `h=0.01`.  Make a plot of the solution to this IVP with axes labeled `y` and `x`.\n",
    "\n",
    "Use SymPy to obtain the ground-truth solution to this IVP.  What is the largest error you see on the domain you solved the problem?  Try solving with the default solver in `solve_ivp`.  What is the largest error in this case?\n",
    "\n",
    "---\n",
    "\n",
    "*put your answers here*\n",
    "\n",
    "\n",
    "The solution to this IVP is that $y = e^x$. The largest error using Euler method is 3.64, and the default solver only have max error of 0.06."
   ]
  },
  {
   "cell_type": "code",
   "execution_count": 12,
   "metadata": {},
   "outputs": [
    {
     "data": {
      "image/png": "[encoded data removed]",
      "text/plain": [
       "<Figure size 640x480 with 1 Axes>"
      ]
     },
     "metadata": {},
     "output_type": "display_data"
    },
    {
     "name": "stdout",
     "output_type": "stream",
     "text": [
      "The ground-truth soolution is exp(t)\n",
      "largest error using Euler :3.6403866699945127\n",
      "largest error using solve_ivp: 0.05870937088138817\n"
     ]
    }
   ],
   "source": [
    "#define the IVP\n",
    "y0 = np.array([1])\n",
    "f = lambda t,y: y\n",
    "t_span = (0,5)\n",
    "t_eval = np.linspace(0,5,500)\n",
    "\n",
    "#solve using two different methods\n",
    "sol_euler = solve_ivp(f,t_span, y0, method=ForwardEuler, t_eval=t_eval, h=0.01)\n",
    "sol = solve_ivp(f, t_span, y0, t_eval=t_eval)\n",
    "\n",
    "#plot on a same graph\n",
    "plt.plot(sol_euler.t, sol_euler.y, c='r')\n",
    "plt.plot(sol.t, sol.y[0], c='b')\n",
    "plt.title(\"Solution to IVP\")\n",
    "plt.ylabel(\"x\")\n",
    "plt.xlabel(\"y\")\n",
    "plt.show()\n",
    "\n",
    "\n",
    "# Define variable and function\n",
    "t = sym.Symbol('t')\n",
    "y = sym.Function('y')(t)\n",
    "eq = sym.Eq(sym.diff(y, t), y) #define the equation\n",
    "soln = sym.solvers.ode.dsolve(eq, ics={y.subs(t, 0): 1})# solve the ODE \n",
    "print(f\"The ground-truth soolution is {soln.rhs}\")\n",
    "\n",
    "y_ex = sym.lambdify(t, soln.rhs, 'numpy') #convert to the exact numerical function\n",
    "y_val = y_ex(t_eval) #compute the value at each t\n",
    "\n",
    "y_euler = sol_euler.y #values using Euler\n",
    "y_sol = sol.y[0] #values using default solve_ivp\n",
    "\n",
    "err_euler = np.max(np.abs(y_euler - y_val)) #compute largest error for Euler\n",
    "err_sol = np.max(np.abs(y_sol - y_val)) #computer largest error for solve_ivp\n",
    "\n",
    "\n",
    "print(f\"largest error using Euler :{err_euler}\")\n",
    "print(f\"largest error using solve_ivp: {err_sol}\")\n"
   ]
  },
  {
   "cell_type": "markdown",
   "metadata": {},
   "source": [
    "### Part C (optional challenge)\n",
    "\n",
    "Use Richardson (see Problem 0) on your Forward Euler solver. How does the error change? You can assume that $m=1$ and derive the formula analytically. What happens if you do Richardson twice?"
   ]
  },
  {
   "cell_type": "code",
   "execution_count": null,
   "metadata": {},
   "outputs": [],
   "source": []
  },
  {
   "cell_type": "markdown",
   "metadata": {},
   "source": [
    "## Problem 1 (20 points)\n",
    "\n",
    "Now that you're warmed up, here are some more simulations.\n",
    "\n",
    "### Part A (15 points)\n",
    "\n",
    "In this problem, we'll simulate a planet and moon moving in a 2-dimensional plane.\n",
    "\n",
    "Newton's law of gravity says that $F_g = Gm_1 m_2 / \\|r\\|^2$.  The direction of the force is in the direction of the vector $r$.  Let $x(t)$ dentote the position of the planet and $y(t)$ denote the position of the moon, and $r(t) = x(t) - y(t)$ Then\n",
    "\\begin{equation}\n",
    "x''(t) = -F_g / m_1 \\times r / \\|r\\|\\\\\n",
    "y''(t) = F_g / m_2 \\times r / \\|r\\|\n",
    "\\end{equation}\n",
    "$x$ and $y$ are 2-vectors, so this is a system of 4-second order ODEs.  We can use the following trick to write this as 8 first order ODEs. Let $p(t)$ be the velocity of the planet and $q(t)$ be the velocity of the moon (note that they are vector valued!). So, $p(t) = x'(t)$, and $q(t) = y'(t)$.  Here are the terms for $x$:\n",
    "\\begin{equation}\n",
    "p_1'(t) = -F_g / m_1 \\times r_1(t) / \\|r\\|\\\\\n",
    "p_2'(t) = -F_g / m_1 \\times r_2(t) / \\|r\\|\\\\\n",
    "x_1'(t) = p_1(t)\\\\\n",
    "x_2'(t) = p_2(t)\n",
    "\\end{equation}\n",
    "\\begin{equation}\n",
    "q_1'(t) = F_g / m_2 \\times r_1(t) / \\|r\\|\\\\\n",
    "q_2'(t) = F_g / m_2 \\times r_2(t) / \\|r\\|\\\\\n",
    "y_1'(t) = q_1(t)\\\\\n",
    "y_2'(t) = q_2(t)\n",
    "\\end{equation}\n",
    "\n",
    "We'll model the Earth and moon.  The [Gravitational constant](https://en.wikipedia.org/wiki/Gravitational_constant) has value `G=6.67 e-11` (we're dropping units, which are all SI).  The mass of the earth is `m1 = 5.972 e24`, and the mass of the moon is `m2=0.07346 e24`.  The distance from the moon to the earth is `r = 384.4 e6`.  This means the orbital speed of the moon around the earth is about `1.022 e3`.\n",
    "\n",
    "Use `solve_ivp` to run a simulation of the moon orbiting the earth for `5 e6` seconds (about 2 months).  Use initial conditions $x(0) = 0, p(0) = 0$ for the earth, and $y(0) = (0, 384.4 \\times 10^6)$ and $q(0) = (1.022 \\times 10^3, 0)$\n",
    "\n",
    "Plot $x_1(t), x_2(t)$ and $y_1(t), y_2(t)$ in the same plane with different colors (include a legend and title).\n",
    "\n",
    "---\n",
    "\n",
    "*Put any answers/discussion here*"
   ]
  },
  {
   "cell_type": "code",
   "execution_count": null,
   "metadata": {},
   "outputs": [],
   "source": []
  },
  {
   "cell_type": "markdown",
   "metadata": {},
   "source": [
    "### Part B (5 points)\n",
    "\n",
    "Now simulate a system with 10 planets, in 10 random locations. The planets should have random masses chosen independently and uniformly from the interval $[0,6 \\times 10^{24}]$ and initial locations chosen randomly from the $(8 \\times 10^8) \\times (8\\times 10^8)$ square centered at the origin. The components of each planet's initial velocity should be chosen randomly on $[-5\\times 10^{2}, 5 \\times 10^{2}].$ Plot the positions of each planet as a function of time.\n",
    "\n",
    "---\n",
    "\n",
    "*Your answer here.  You can create some code cells as well*"
   ]
  },
  {
   "cell_type": "code",
   "execution_count": null,
   "metadata": {},
   "outputs": [],
   "source": []
  },
  {
   "cell_type": "markdown",
   "metadata": {},
   "source": [
    "## Problem 2 (30 points)\n",
    "In this problem, we will solve some a simple PDE using the \"method of lines\". In this method, we replace the\n",
    "$$\\partial_t u(t,x) = \\Delta u(t,x) $$\n",
    "PDE by the system of ODEs\n",
    "$$ \\partial_t\\boldsymbol{u}(t) = A \\boldsymbol{u}(t),$$\n",
    "where\n",
    "$$[\\boldsymbol{u}(t)]_i=u_i(t) \\approx u(t,x_i). $$\n",
    "The matrix $A$ approximates the differential operator using, e.g. finite differences\n",
    "$$ \\Delta u \\to A \\boldsymbol{u}.$$\n",
    "\n",
    "After we semi-discretize in space we are left with a large system of ODEs that we can solve using our favorite method.\n",
    " \n",
    "\n",
    "### Part A (25 points)\n",
    "In this problem we will solve the heat equation \n",
    "\\begin{equation}\n",
    "\\begin{cases}\n",
    "\\partial_t u(t,x) = \\Delta u(t,x) & x\\in [0,1], \\;t\\in[0,T]\\\\\n",
    "u(0,x) = f(x) & x\\in [0,1]\\\\\n",
    "u(t,0) = a & t \\in [0,T]\\\\\n",
    "u(t,1) = b & t \\in [0,T]\\\\\n",
    "\\end{cases}\n",
    "\\end{equation}\n",
    "with the method of lines.\n",
    "\n",
    "To solve this equation, we discretize the interval $x\\in[0,1]$ with $n+2$ points. The end points will be used to enforce boundary conditions and the interior points will be used to compute the right hand side of the PDE. We approximate the Laplacian operator using the second order centered difference formula\n",
    "$$g''(x) = \\frac{g(x+h)-2g(x)+g(x-h)}{h^2}$$\n",
    "and we integrate in time using the forward Euler method.\n",
    "\n",
    "Your code for implementing this method should include the following three functions\n",
    "1. `second_diff`, which computes the second derivative of $u$ at the interior nodes (using the centered difference formula) and returns it as an array with zeros on each end (as the boundary conditions don't change)\n",
    "2. `forward_time_step`, which uses $u(t_n,x)$ and the forward Euler method to compute $u(t_{n+1},x)$\n",
    "3. `sim_heat`, which solves the heat equation by setting $u(0,x)=f(x)$ and then calling `forward_time_step` repeatedly to compute $u(T,x)$. This function should accept the following inputes\n",
    "    * `n` the number of internal nodes \n",
    "    * `f` the initial condition\n",
    "    * `bc` a list containing the left and right boundary conditions $a$ and $b$\n",
    "    * `dx` the grid spacing, i.e. the distance between x values i.e. $1/(n+1)$\n",
    "    * `dt` the time step to be used by the forward Euler method\n",
    "    * `T` the time at which we want the solution $u(T,x)$. Note that in general $T/dt$ will not be an integer, so the last call of `forward_time_step` will have to use a smaller time step than `dt`"
   ]
  },
  {
   "cell_type": "markdown",
   "metadata": {},
   "source": [
    "Once you have created these functions, solve the heat equation with\n",
    "\\begin{gather}\n",
    "f(x) = \\sin(2\\pi x)\\\\\n",
    "a = b = 0\n",
    "\\end{gather}\n",
    "up until time $T=0.02$ using $n=99$ and `dt=0.2*dx**2`. \n",
    "\n",
    "To verify the accuracy of your code, compare the output to the exact solution $u(t,x)= \\exp(-4\\pi^2t)\\sin(2\\pi x)$. You can do this by summing the sum of squares errors at your $x_i$'s and dividing by $\\sqrt{n}$.\n",
    "\n",
    "You should also include a plot of $u(0,x)$ and $u(T,x)$."
   ]
  },
  {
   "cell_type": "code",
   "execution_count": null,
   "metadata": {},
   "outputs": [],
   "source": [
    "def second_diff(u,dx):\n",
    "    pass\n",
    "\n",
    "def time_step(u,dx,dt):\n",
    "    pass\n",
    "\n",
    "def sim_heat(n,f,bc,dx,dt,T):\n",
    "    pass\n"
   ]
  },
  {
   "cell_type": "code",
   "execution_count": null,
   "metadata": {},
   "outputs": [],
   "source": []
  },
  {
   "cell_type": "markdown",
   "metadata": {},
   "source": [
    "## Part B (5 points)\n",
    "Now solve for $u(T,x)$ using the same parameters as above, except that you should set `dt=0.7*dx**2`. Create a plot of $u(0,x)$ and $u(T,x)$ and compare it to the plot from the previous question. The ratio $dt/dx^2$ is called the CFL (Courant–Friedrichs–Lewy) number and the observation that you will make is an important concept in numerical PDE methods."
   ]
  },
  {
   "cell_type": "code",
   "execution_count": null,
   "metadata": {},
   "outputs": [],
   "source": []
  },
  {
   "cell_type": "markdown",
   "metadata": {},
   "source": [
    "## Part C (optional, 5 bonus points)\n",
    "The CFL condition that $dt/dx^2<0.5$ is prohibitively restrictive. To get around this, we can use so-called implicit time stepping schemes, which are far more stable, though computationally costly. The simplest of these schemes is the backwards Euler method:\n",
    "$$ y(t_{n+1}) = y(t_n) + dt y'(t_{n+1})$$\n",
    "(Note that $y'$ is now evaluated at a future time.) When solving a linear system of ODEs\n",
    "$$ y'= A y$$\n",
    "the backwards Euler method requires us to solve the linear system\n",
    "$$ (I - dt A)y(t_{n+1}) = y(t_{n}). $$\n",
    "\n",
    "In this problem you should modify your existing code to solve the heat equation using this implicit time stepping scheme. In order to do this efficiently, you should construct and store a Cholesky factorization of the matrix $I-dt A$.\n",
    "\n",
    "With this new code, repeat the experiment from part B. Do you run into the same stability problem?\n",
    "\n",
    "Further, with this method, are you able to make $dt$ a comparable size to $dx$?"
   ]
  },
  {
   "cell_type": "code",
   "execution_count": null,
   "metadata": {},
   "outputs": [],
   "source": []
  },
  {
   "cell_type": "markdown",
   "metadata": {},
   "source": [
    "## Feedback\n",
    "\n",
    "If you would like share how long it took you to complete this assignment, it will help adjust the difficulty for future assignments.  You're welcome to share additional feedback as well."
   ]
  },
  {
   "cell_type": "code",
   "execution_count": null,
   "metadata": {},
   "outputs": [],
   "source": []
  }
 ],
 "metadata": {
  "kernelspec": {
   "display_name": "Python 3 (ipykernel)",
   "language": "python",
   "name": "python3"
  },
  "language_info": {
   "codemirror_mode": {
    "name": "ipython",
    "version": 3
   },
   "file_extension": ".py",
   "mimetype": "text/x-python",
   "name": "python",
   "nbconvert_exporter": "python",
   "pygments_lexer": "ipython3",
   "version": "3.8.20"
  }
 },
 "nbformat": 4,
 "nbformat_minor": 4
}
